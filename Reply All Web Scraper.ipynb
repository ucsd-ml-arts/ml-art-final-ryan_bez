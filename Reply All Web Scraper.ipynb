{
 "cells": [
  {
   "cell_type": "code",
   "execution_count": 1,
   "metadata": {},
   "outputs": [],
   "source": [
    "from bs4 import BeautifulSoup\n",
    "import requests\n",
    "import numpy as np\n",
    "import os"
   ]
  },
  {
   "cell_type": "code",
   "execution_count": 2,
   "metadata": {},
   "outputs": [],
   "source": [
    "site_url = 'https://www.gimletmedia.com/reply-all/all'\n",
    "page = requests.get(site_url)\n",
    "soup = BeautifulSoup(page.content, 'html.parser')\n",
    "#print(soup)"
   ]
  },
  {
   "cell_type": "code",
   "execution_count": 3,
   "metadata": {},
   "outputs": [],
   "source": [
    "#find episode titles\n",
    "#soup.find_all('h2')\n",
    "\n",
    "#find all the things\n",
    "#soup.find_all('a')\n",
    "#print(soup)\n",
    "\n",
    "#get all episode links and more\n",
    "results = []\n",
    "for link in soup.find_all('a'):\n",
    "    candidate_url = link.get('href')\n",
    "    if candidate_url is not None and candidate_url.startswith( '/shows/reply-all/') and (len(candidate_url) > 30):\n",
    "        results.append(candidate_url)\n",
    "\n",
    "#trimming duplicate links\n",
    "results = np.unique(results)\n",
    "#len(results)\n",
    "\n",
    "#confirming all episode titles were pulled\n",
    "#for result in results:    \n",
    "#    print(result)\n"
   ]
  },
  {
   "cell_type": "code",
   "execution_count": 6,
   "metadata": {},
   "outputs": [
    {
     "name": "stdout",
     "output_type": "stream",
     "text": [
      "2\n",
      "2578\n",
      "107.68487111539388\n"
     ]
    }
   ],
   "source": [
    "#loop through each episode webpage, pull and clean the transcript, and print it to an aptly named file\n",
    "max_string_length = 0\n",
    "min_string_length = 9999\n",
    "tot_string_length = 0\n",
    "num_strings = 0\n",
    "for episode in results:\n",
    "    episode_url = \"https://www.gimletmedia.com\" + episode\n",
    "    page = requests.get(episode_url)\n",
    "    soup = BeautifulSoup(page.content, 'html.parser')\n",
    "\n",
    "    eptranscript = []\n",
    "    boolBit = 0\n",
    "    titleBit = 0\n",
    "    for str in soup.stripped_strings:\n",
    "        #parsing out a title\n",
    "        if titleBit == 0:\n",
    "            file_title = str\n",
    "            titleBit = 1\n",
    "        #break out once done collecting all strings\n",
    "        if str == \"More Episodes\":\n",
    "            break\n",
    "        #start collecting strings that are part of the transcript\n",
    "        if str == \"Transcript\":\n",
    "            boolBit = 1\n",
    "            continue\n",
    "        if boolBit == 1:\n",
    "            eptranscript.append(str)\n",
    "\n",
    "    #removing the last word \"close\" from the command to close the transcript box on the webpage\n",
    "    if eptranscript:\n",
    "        eptranscript.pop()\n",
    "    \n",
    "    file = open(file_title,\"a\")\n",
    "    \n",
    "    for each in eptranscript:\n",
    "        line = each + \"\\n\"\n",
    "        if len(line) < min_string_length: \n",
    "            min_string_length = len(line)\n",
    "        if len(line) > max_string_length: \n",
    "            max_string_length = len(line)\n",
    "        tot_string_length += len(line)\n",
    "        num_strings+=1\n",
    "        file.write(line)\n",
    "        \n",
    "    file.close()\n",
    "\n",
    "avg_string_length = tot_string_length/num_strings\n",
    "print(min_string_length)\n",
    "print(max_string_length)\n",
    "print(avg_string_length)"
   ]
  },
  {
   "cell_type": "code",
   "execution_count": null,
   "metadata": {},
   "outputs": [],
   "source": [
    "#below was used as a test bed for how to pull text from the individual episode pages which was then used above\n",
    "\n",
    "\n",
    "\n",
    "# site_url = 'https://www.gimletmedia.com/shows/reply-all/39hz62/21-hack-the-police'\n",
    "# page = requests.get(site_url)\n",
    "# soup = BeautifulSoup(page.content, 'html.parser')\n",
    "\n",
    "# eptranscript = []\n",
    "# boolBit = 0\n",
    "# titleBit = 0\n",
    "# for str in soup.stripped_strings:\n",
    "#     if titleBit == 0:\n",
    "#         file_title = str\n",
    "#         titleBit = 1\n",
    "#     #eptranscript.append(str)\n",
    "#     if str == \"More Episodes\":\n",
    "#         break\n",
    "#     if str == \"Transcript\":\n",
    "#         boolBit = 1\n",
    "#         continue\n",
    "#     if boolBit == 1:\n",
    "#         eptranscript.append(str)\n",
    "# print(file_title)\n",
    "\n",
    "#removing the last word \"close\" from the command to close the transcript box on the webpage\n",
    "#eptranscript.pop()\n",
    "     \n",
    "#len(eptranscript)\n",
    "#for each in eptranscript:\n",
    "    #print(each)"
   ]
  }
 ],
 "metadata": {
  "kernelspec": {
   "display_name": "Python 3",
   "language": "python",
   "name": "python3"
  },
  "language_info": {
   "codemirror_mode": {
    "name": "ipython",
    "version": 3
   },
   "file_extension": ".py",
   "mimetype": "text/x-python",
   "name": "python",
   "nbconvert_exporter": "python",
   "pygments_lexer": "ipython3",
   "version": "3.6.8"
  }
 },
 "nbformat": 4,
 "nbformat_minor": 2
}
